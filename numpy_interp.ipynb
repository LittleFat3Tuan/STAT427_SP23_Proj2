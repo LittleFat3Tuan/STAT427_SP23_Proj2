{
 "cells": [
  {
   "cell_type": "code",
   "execution_count": 16,
   "metadata": {},
   "outputs": [],
   "source": [
    "import numpy as np\n",
    "import csv\n",
    "import scipy as sp\n",
    "import scipy.interpolate\n",
    "import random"
   ]
  },
  {
   "cell_type": "code",
   "execution_count": 8,
   "metadata": {},
   "outputs": [],
   "source": [
    "lon = []\n",
    "lat = []\n",
    "elev = []\n",
    "with open('processed_welldata.csv', newline='') as csvf:\n",
    "    spamreader = csv.reader(csvf, delimiter=',')\n",
    "    for i, row in enumerate(spamreader):\n",
    "        lat.append(row[1])\n",
    "        lon.append(row[2])\n",
    "        elev.append(row[3])\n",
    "\n",
    "        "
   ]
  },
  {
   "cell_type": "code",
   "execution_count": 14,
   "metadata": {},
   "outputs": [],
   "source": [
    "lat = lat[1:]\n",
    "lon = lon[1:]\n",
    "elev = elev[1:]"
   ]
  },
  {
   "cell_type": "code",
   "execution_count": 24,
   "metadata": {},
   "outputs": [
    {
     "data": {
      "text/plain": [
       "67525"
      ]
     },
     "execution_count": 24,
     "metadata": {},
     "output_type": "execute_result"
    }
   ],
   "source": [
    "len(np.unique(lat))\n",
    "len(np.unique(lon))"
   ]
  },
  {
   "cell_type": "code",
   "execution_count": 36,
   "metadata": {},
   "outputs": [],
   "source": [
    "spline = sp.interpolate.Rbf(lat[0:1000],lon[0:1000],elev[0:1000],function='thin_plate',smooth=3, episilon=5)"
   ]
  },
  {
   "cell_type": "code",
   "execution_count": 37,
   "metadata": {},
   "outputs": [
    {
     "data": {
      "text/plain": [
       "array([198.92599196, 153.34282717, 166.08442238, 175.68469701,\n",
       "       172.90930391, 138.50283288, 148.97676188, 125.41934396,\n",
       "       153.7165652 , 130.63376052])"
      ]
     },
     "execution_count": 37,
     "metadata": {},
     "output_type": "execute_result"
    }
   ],
   "source": [
    "spline(lat[0:1000],lon[0:1000])[0:10]"
   ]
  },
  {
   "cell_type": "code",
   "execution_count": 38,
   "metadata": {},
   "outputs": [
    {
     "data": {
      "text/plain": [
       "['96.10077598704',\n",
       " '51.1733229516',\n",
       " '106.65735951696',\n",
       " '98.52313043112',\n",
       " '59.20020044112',\n",
       " '77.2098918588',\n",
       " '110.37592323552',\n",
       " '89.16013915968',\n",
       " '81.37241918016',\n",
       " '118.499715756']"
      ]
     },
     "execution_count": 38,
     "metadata": {},
     "output_type": "execute_result"
    }
   ],
   "source": [
    "elev[0:10]"
   ]
  }
 ],
 "metadata": {
  "kernelspec": {
   "display_name": "base",
   "language": "python",
   "name": "python3"
  },
  "language_info": {
   "codemirror_mode": {
    "name": "ipython",
    "version": 3
   },
   "file_extension": ".py",
   "mimetype": "text/x-python",
   "name": "python",
   "nbconvert_exporter": "python",
   "pygments_lexer": "ipython3",
   "version": "3.8.8"
  },
  "orig_nbformat": 4,
  "vscode": {
   "interpreter": {
    "hash": "88279d2366fe020547cde40dd65aa0e3aa662a6ec1f3ca12d88834876c85e1a6"
   }
  }
 },
 "nbformat": 4,
 "nbformat_minor": 2
}
